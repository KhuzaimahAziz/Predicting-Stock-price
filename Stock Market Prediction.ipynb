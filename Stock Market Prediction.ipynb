{
 "cells": [
  {
   "cell_type": "code",
   "execution_count": 45,
   "metadata": {},
   "outputs": [],
   "source": [
    "import pandas as pd\n",
    "import numpy as np\n",
    "import matplotlib.pyplot  as plt"
   ]
  },
  {
   "cell_type": "code",
   "execution_count": 46,
   "metadata": {},
   "outputs": [],
   "source": [
    "data=pd.read_csv('sphist.csv')"
   ]
  },
  {
   "cell_type": "code",
   "execution_count": 47,
   "metadata": {},
   "outputs": [
    {
     "data": {
      "text/html": [
       "<div>\n",
       "<style scoped>\n",
       "    .dataframe tbody tr th:only-of-type {\n",
       "        vertical-align: middle;\n",
       "    }\n",
       "\n",
       "    .dataframe tbody tr th {\n",
       "        vertical-align: top;\n",
       "    }\n",
       "\n",
       "    .dataframe thead th {\n",
       "        text-align: right;\n",
       "    }\n",
       "</style>\n",
       "<table border=\"1\" class=\"dataframe\">\n",
       "  <thead>\n",
       "    <tr style=\"text-align: right;\">\n",
       "      <th></th>\n",
       "      <th>Date</th>\n",
       "      <th>Open</th>\n",
       "      <th>High</th>\n",
       "      <th>Low</th>\n",
       "      <th>Close</th>\n",
       "      <th>Volume</th>\n",
       "      <th>Adj Close</th>\n",
       "    </tr>\n",
       "  </thead>\n",
       "  <tbody>\n",
       "    <tr>\n",
       "      <th>0</th>\n",
       "      <td>2015-12-07</td>\n",
       "      <td>2090.419922</td>\n",
       "      <td>2090.419922</td>\n",
       "      <td>2066.780029</td>\n",
       "      <td>2077.070068</td>\n",
       "      <td>4.043820e+09</td>\n",
       "      <td>2077.070068</td>\n",
       "    </tr>\n",
       "    <tr>\n",
       "      <th>1</th>\n",
       "      <td>2015-12-04</td>\n",
       "      <td>2051.239990</td>\n",
       "      <td>2093.840088</td>\n",
       "      <td>2051.239990</td>\n",
       "      <td>2091.689941</td>\n",
       "      <td>4.214910e+09</td>\n",
       "      <td>2091.689941</td>\n",
       "    </tr>\n",
       "    <tr>\n",
       "      <th>2</th>\n",
       "      <td>2015-12-03</td>\n",
       "      <td>2080.709961</td>\n",
       "      <td>2085.000000</td>\n",
       "      <td>2042.349976</td>\n",
       "      <td>2049.620117</td>\n",
       "      <td>4.306490e+09</td>\n",
       "      <td>2049.620117</td>\n",
       "    </tr>\n",
       "    <tr>\n",
       "      <th>3</th>\n",
       "      <td>2015-12-02</td>\n",
       "      <td>2101.709961</td>\n",
       "      <td>2104.270020</td>\n",
       "      <td>2077.110107</td>\n",
       "      <td>2079.510010</td>\n",
       "      <td>3.950640e+09</td>\n",
       "      <td>2079.510010</td>\n",
       "    </tr>\n",
       "    <tr>\n",
       "      <th>4</th>\n",
       "      <td>2015-12-01</td>\n",
       "      <td>2082.929932</td>\n",
       "      <td>2103.370117</td>\n",
       "      <td>2082.929932</td>\n",
       "      <td>2102.629883</td>\n",
       "      <td>3.712120e+09</td>\n",
       "      <td>2102.629883</td>\n",
       "    </tr>\n",
       "  </tbody>\n",
       "</table>\n",
       "</div>"
      ],
      "text/plain": [
       "         Date         Open         High          Low        Close  \\\n",
       "0  2015-12-07  2090.419922  2090.419922  2066.780029  2077.070068   \n",
       "1  2015-12-04  2051.239990  2093.840088  2051.239990  2091.689941   \n",
       "2  2015-12-03  2080.709961  2085.000000  2042.349976  2049.620117   \n",
       "3  2015-12-02  2101.709961  2104.270020  2077.110107  2079.510010   \n",
       "4  2015-12-01  2082.929932  2103.370117  2082.929932  2102.629883   \n",
       "\n",
       "         Volume    Adj Close  \n",
       "0  4.043820e+09  2077.070068  \n",
       "1  4.214910e+09  2091.689941  \n",
       "2  4.306490e+09  2049.620117  \n",
       "3  3.950640e+09  2079.510010  \n",
       "4  3.712120e+09  2102.629883  "
      ]
     },
     "execution_count": 47,
     "metadata": {},
     "output_type": "execute_result"
    }
   ],
   "source": [
    "data.head()"
   ]
  },
  {
   "cell_type": "code",
   "execution_count": 48,
   "metadata": {},
   "outputs": [
    {
     "name": "stdout",
     "output_type": "stream",
     "text": [
      "<class 'pandas.core.frame.DataFrame'>\n",
      "RangeIndex: 16590 entries, 0 to 16589\n",
      "Data columns (total 7 columns):\n",
      " #   Column     Non-Null Count  Dtype  \n",
      "---  ------     --------------  -----  \n",
      " 0   Date       16590 non-null  object \n",
      " 1   Open       16590 non-null  float64\n",
      " 2   High       16590 non-null  float64\n",
      " 3   Low        16590 non-null  float64\n",
      " 4   Close      16590 non-null  float64\n",
      " 5   Volume     16590 non-null  float64\n",
      " 6   Adj Close  16590 non-null  float64\n",
      "dtypes: float64(6), object(1)\n",
      "memory usage: 907.4+ KB\n"
     ]
    }
   ],
   "source": [
    "data.info()"
   ]
  },
  {
   "cell_type": "code",
   "execution_count": 49,
   "metadata": {},
   "outputs": [],
   "source": [
    "data['Date']=pd.to_datetime(data['Date'])"
   ]
  },
  {
   "cell_type": "code",
   "execution_count": 50,
   "metadata": {},
   "outputs": [
    {
     "name": "stdout",
     "output_type": "stream",
     "text": [
      "<class 'pandas.core.frame.DataFrame'>\n",
      "RangeIndex: 16590 entries, 0 to 16589\n",
      "Data columns (total 7 columns):\n",
      " #   Column     Non-Null Count  Dtype         \n",
      "---  ------     --------------  -----         \n",
      " 0   Date       16590 non-null  datetime64[ns]\n",
      " 1   Open       16590 non-null  float64       \n",
      " 2   High       16590 non-null  float64       \n",
      " 3   Low        16590 non-null  float64       \n",
      " 4   Close      16590 non-null  float64       \n",
      " 5   Volume     16590 non-null  float64       \n",
      " 6   Adj Close  16590 non-null  float64       \n",
      "dtypes: datetime64[ns](1), float64(6)\n",
      "memory usage: 907.4 KB\n"
     ]
    }
   ],
   "source": [
    "data.info()"
   ]
  },
  {
   "cell_type": "code",
   "execution_count": 51,
   "metadata": {},
   "outputs": [],
   "source": [
    "data.sort_values('Date', inplace=True)"
   ]
  },
  {
   "cell_type": "code",
   "execution_count": 52,
   "metadata": {},
   "outputs": [
    {
     "data": {
      "text/html": [
       "<div>\n",
       "<style scoped>\n",
       "    .dataframe tbody tr th:only-of-type {\n",
       "        vertical-align: middle;\n",
       "    }\n",
       "\n",
       "    .dataframe tbody tr th {\n",
       "        vertical-align: top;\n",
       "    }\n",
       "\n",
       "    .dataframe thead th {\n",
       "        text-align: right;\n",
       "    }\n",
       "</style>\n",
       "<table border=\"1\" class=\"dataframe\">\n",
       "  <thead>\n",
       "    <tr style=\"text-align: right;\">\n",
       "      <th></th>\n",
       "      <th>Date</th>\n",
       "      <th>Open</th>\n",
       "      <th>High</th>\n",
       "      <th>Low</th>\n",
       "      <th>Close</th>\n",
       "      <th>Volume</th>\n",
       "      <th>Adj Close</th>\n",
       "    </tr>\n",
       "  </thead>\n",
       "  <tbody>\n",
       "    <tr>\n",
       "      <th>16589</th>\n",
       "      <td>1950-01-03</td>\n",
       "      <td>16.66</td>\n",
       "      <td>16.66</td>\n",
       "      <td>16.66</td>\n",
       "      <td>16.66</td>\n",
       "      <td>1260000.0</td>\n",
       "      <td>16.66</td>\n",
       "    </tr>\n",
       "    <tr>\n",
       "      <th>16588</th>\n",
       "      <td>1950-01-04</td>\n",
       "      <td>16.85</td>\n",
       "      <td>16.85</td>\n",
       "      <td>16.85</td>\n",
       "      <td>16.85</td>\n",
       "      <td>1890000.0</td>\n",
       "      <td>16.85</td>\n",
       "    </tr>\n",
       "    <tr>\n",
       "      <th>16587</th>\n",
       "      <td>1950-01-05</td>\n",
       "      <td>16.93</td>\n",
       "      <td>16.93</td>\n",
       "      <td>16.93</td>\n",
       "      <td>16.93</td>\n",
       "      <td>2550000.0</td>\n",
       "      <td>16.93</td>\n",
       "    </tr>\n",
       "    <tr>\n",
       "      <th>16586</th>\n",
       "      <td>1950-01-06</td>\n",
       "      <td>16.98</td>\n",
       "      <td>16.98</td>\n",
       "      <td>16.98</td>\n",
       "      <td>16.98</td>\n",
       "      <td>2010000.0</td>\n",
       "      <td>16.98</td>\n",
       "    </tr>\n",
       "    <tr>\n",
       "      <th>16585</th>\n",
       "      <td>1950-01-09</td>\n",
       "      <td>17.08</td>\n",
       "      <td>17.08</td>\n",
       "      <td>17.08</td>\n",
       "      <td>17.08</td>\n",
       "      <td>2520000.0</td>\n",
       "      <td>17.08</td>\n",
       "    </tr>\n",
       "  </tbody>\n",
       "</table>\n",
       "</div>"
      ],
      "text/plain": [
       "            Date   Open   High    Low  Close     Volume  Adj Close\n",
       "16589 1950-01-03  16.66  16.66  16.66  16.66  1260000.0      16.66\n",
       "16588 1950-01-04  16.85  16.85  16.85  16.85  1890000.0      16.85\n",
       "16587 1950-01-05  16.93  16.93  16.93  16.93  2550000.0      16.93\n",
       "16586 1950-01-06  16.98  16.98  16.98  16.98  2010000.0      16.98\n",
       "16585 1950-01-09  17.08  17.08  17.08  17.08  2520000.0      17.08"
      ]
     },
     "execution_count": 52,
     "metadata": {},
     "output_type": "execute_result"
    }
   ],
   "source": [
    "data.head()"
   ]
  },
  {
   "cell_type": "code",
   "execution_count": 53,
   "metadata": {},
   "outputs": [
    {
     "data": {
      "text/plain": [
       "16589            NaN\n",
       "16588            NaN\n",
       "16587            NaN\n",
       "16586            NaN\n",
       "16585            NaN\n",
       "            ...     \n",
       "4        2087.024023\n",
       "3        2090.231982\n",
       "2        2088.306006\n",
       "1        2080.456006\n",
       "0        2080.771973\n",
       "Name: Close, Length: 16590, dtype: float64"
      ]
     },
     "execution_count": 53,
     "metadata": {},
     "output_type": "execute_result"
    }
   ],
   "source": [
    "data['Close'].rolling(5).mean().shift(1)"
   ]
  },
  {
   "cell_type": "code",
   "execution_count": 54,
   "metadata": {},
   "outputs": [],
   "source": [
    "data['mean_close_5']=data['Close'].rolling(5).mean().shift(1)"
   ]
  },
  {
   "cell_type": "code",
   "execution_count": 55,
   "metadata": {},
   "outputs": [
    {
     "data": {
      "text/html": [
       "<div>\n",
       "<style scoped>\n",
       "    .dataframe tbody tr th:only-of-type {\n",
       "        vertical-align: middle;\n",
       "    }\n",
       "\n",
       "    .dataframe tbody tr th {\n",
       "        vertical-align: top;\n",
       "    }\n",
       "\n",
       "    .dataframe thead th {\n",
       "        text-align: right;\n",
       "    }\n",
       "</style>\n",
       "<table border=\"1\" class=\"dataframe\">\n",
       "  <thead>\n",
       "    <tr style=\"text-align: right;\">\n",
       "      <th></th>\n",
       "      <th>Date</th>\n",
       "      <th>Open</th>\n",
       "      <th>High</th>\n",
       "      <th>Low</th>\n",
       "      <th>Close</th>\n",
       "      <th>Volume</th>\n",
       "      <th>Adj Close</th>\n",
       "      <th>mean_close_5</th>\n",
       "    </tr>\n",
       "  </thead>\n",
       "  <tbody>\n",
       "    <tr>\n",
       "      <th>16589</th>\n",
       "      <td>1950-01-03</td>\n",
       "      <td>16.660000</td>\n",
       "      <td>16.660000</td>\n",
       "      <td>16.660000</td>\n",
       "      <td>16.660000</td>\n",
       "      <td>1260000.0</td>\n",
       "      <td>16.660000</td>\n",
       "      <td>NaN</td>\n",
       "    </tr>\n",
       "    <tr>\n",
       "      <th>16588</th>\n",
       "      <td>1950-01-04</td>\n",
       "      <td>16.850000</td>\n",
       "      <td>16.850000</td>\n",
       "      <td>16.850000</td>\n",
       "      <td>16.850000</td>\n",
       "      <td>1890000.0</td>\n",
       "      <td>16.850000</td>\n",
       "      <td>NaN</td>\n",
       "    </tr>\n",
       "    <tr>\n",
       "      <th>16587</th>\n",
       "      <td>1950-01-05</td>\n",
       "      <td>16.930000</td>\n",
       "      <td>16.930000</td>\n",
       "      <td>16.930000</td>\n",
       "      <td>16.930000</td>\n",
       "      <td>2550000.0</td>\n",
       "      <td>16.930000</td>\n",
       "      <td>NaN</td>\n",
       "    </tr>\n",
       "    <tr>\n",
       "      <th>16586</th>\n",
       "      <td>1950-01-06</td>\n",
       "      <td>16.980000</td>\n",
       "      <td>16.980000</td>\n",
       "      <td>16.980000</td>\n",
       "      <td>16.980000</td>\n",
       "      <td>2010000.0</td>\n",
       "      <td>16.980000</td>\n",
       "      <td>NaN</td>\n",
       "    </tr>\n",
       "    <tr>\n",
       "      <th>16585</th>\n",
       "      <td>1950-01-09</td>\n",
       "      <td>17.080000</td>\n",
       "      <td>17.080000</td>\n",
       "      <td>17.080000</td>\n",
       "      <td>17.080000</td>\n",
       "      <td>2520000.0</td>\n",
       "      <td>17.080000</td>\n",
       "      <td>NaN</td>\n",
       "    </tr>\n",
       "    <tr>\n",
       "      <th>16584</th>\n",
       "      <td>1950-01-10</td>\n",
       "      <td>17.030001</td>\n",
       "      <td>17.030001</td>\n",
       "      <td>17.030001</td>\n",
       "      <td>17.030001</td>\n",
       "      <td>2160000.0</td>\n",
       "      <td>17.030001</td>\n",
       "      <td>16.900</td>\n",
       "    </tr>\n",
       "    <tr>\n",
       "      <th>16583</th>\n",
       "      <td>1950-01-11</td>\n",
       "      <td>17.090000</td>\n",
       "      <td>17.090000</td>\n",
       "      <td>17.090000</td>\n",
       "      <td>17.090000</td>\n",
       "      <td>2630000.0</td>\n",
       "      <td>17.090000</td>\n",
       "      <td>16.974</td>\n",
       "    </tr>\n",
       "    <tr>\n",
       "      <th>16582</th>\n",
       "      <td>1950-01-12</td>\n",
       "      <td>16.760000</td>\n",
       "      <td>16.760000</td>\n",
       "      <td>16.760000</td>\n",
       "      <td>16.760000</td>\n",
       "      <td>2970000.0</td>\n",
       "      <td>16.760000</td>\n",
       "      <td>17.022</td>\n",
       "    </tr>\n",
       "    <tr>\n",
       "      <th>16581</th>\n",
       "      <td>1950-01-13</td>\n",
       "      <td>16.670000</td>\n",
       "      <td>16.670000</td>\n",
       "      <td>16.670000</td>\n",
       "      <td>16.670000</td>\n",
       "      <td>3330000.0</td>\n",
       "      <td>16.670000</td>\n",
       "      <td>16.988</td>\n",
       "    </tr>\n",
       "    <tr>\n",
       "      <th>16580</th>\n",
       "      <td>1950-01-16</td>\n",
       "      <td>16.719999</td>\n",
       "      <td>16.719999</td>\n",
       "      <td>16.719999</td>\n",
       "      <td>16.719999</td>\n",
       "      <td>1460000.0</td>\n",
       "      <td>16.719999</td>\n",
       "      <td>16.926</td>\n",
       "    </tr>\n",
       "  </tbody>\n",
       "</table>\n",
       "</div>"
      ],
      "text/plain": [
       "            Date       Open       High        Low      Close     Volume  \\\n",
       "16589 1950-01-03  16.660000  16.660000  16.660000  16.660000  1260000.0   \n",
       "16588 1950-01-04  16.850000  16.850000  16.850000  16.850000  1890000.0   \n",
       "16587 1950-01-05  16.930000  16.930000  16.930000  16.930000  2550000.0   \n",
       "16586 1950-01-06  16.980000  16.980000  16.980000  16.980000  2010000.0   \n",
       "16585 1950-01-09  17.080000  17.080000  17.080000  17.080000  2520000.0   \n",
       "16584 1950-01-10  17.030001  17.030001  17.030001  17.030001  2160000.0   \n",
       "16583 1950-01-11  17.090000  17.090000  17.090000  17.090000  2630000.0   \n",
       "16582 1950-01-12  16.760000  16.760000  16.760000  16.760000  2970000.0   \n",
       "16581 1950-01-13  16.670000  16.670000  16.670000  16.670000  3330000.0   \n",
       "16580 1950-01-16  16.719999  16.719999  16.719999  16.719999  1460000.0   \n",
       "\n",
       "       Adj Close  mean_close_5  \n",
       "16589  16.660000           NaN  \n",
       "16588  16.850000           NaN  \n",
       "16587  16.930000           NaN  \n",
       "16586  16.980000           NaN  \n",
       "16585  17.080000           NaN  \n",
       "16584  17.030001        16.900  \n",
       "16583  17.090000        16.974  \n",
       "16582  16.760000        17.022  \n",
       "16581  16.670000        16.988  \n",
       "16580  16.719999        16.926  "
      ]
     },
     "execution_count": 55,
     "metadata": {},
     "output_type": "execute_result"
    }
   ],
   "source": [
    "data.head(10)"
   ]
  },
  {
   "cell_type": "code",
   "execution_count": 56,
   "metadata": {},
   "outputs": [],
   "source": [
    "data['mean_close_30']=data['Close'].rolling(30).mean().shift(1)\n",
    "data['mean_close_365']=data['Close'].rolling(365).mean().shift(1)"
   ]
  },
  {
   "cell_type": "code",
   "execution_count": 57,
   "metadata": {},
   "outputs": [
    {
     "data": {
      "text/html": [
       "<div>\n",
       "<style scoped>\n",
       "    .dataframe tbody tr th:only-of-type {\n",
       "        vertical-align: middle;\n",
       "    }\n",
       "\n",
       "    .dataframe tbody tr th {\n",
       "        vertical-align: top;\n",
       "    }\n",
       "\n",
       "    .dataframe thead th {\n",
       "        text-align: right;\n",
       "    }\n",
       "</style>\n",
       "<table border=\"1\" class=\"dataframe\">\n",
       "  <thead>\n",
       "    <tr style=\"text-align: right;\">\n",
       "      <th></th>\n",
       "      <th>Date</th>\n",
       "      <th>Open</th>\n",
       "      <th>High</th>\n",
       "      <th>Low</th>\n",
       "      <th>Close</th>\n",
       "      <th>Volume</th>\n",
       "      <th>Adj Close</th>\n",
       "      <th>mean_close_5</th>\n",
       "      <th>mean_close_30</th>\n",
       "      <th>mean_close_365</th>\n",
       "    </tr>\n",
       "  </thead>\n",
       "  <tbody>\n",
       "    <tr>\n",
       "      <th>16589</th>\n",
       "      <td>1950-01-03</td>\n",
       "      <td>16.660000</td>\n",
       "      <td>16.660000</td>\n",
       "      <td>16.660000</td>\n",
       "      <td>16.660000</td>\n",
       "      <td>1260000.0</td>\n",
       "      <td>16.660000</td>\n",
       "      <td>NaN</td>\n",
       "      <td>NaN</td>\n",
       "      <td>NaN</td>\n",
       "    </tr>\n",
       "    <tr>\n",
       "      <th>16588</th>\n",
       "      <td>1950-01-04</td>\n",
       "      <td>16.850000</td>\n",
       "      <td>16.850000</td>\n",
       "      <td>16.850000</td>\n",
       "      <td>16.850000</td>\n",
       "      <td>1890000.0</td>\n",
       "      <td>16.850000</td>\n",
       "      <td>NaN</td>\n",
       "      <td>NaN</td>\n",
       "      <td>NaN</td>\n",
       "    </tr>\n",
       "    <tr>\n",
       "      <th>16587</th>\n",
       "      <td>1950-01-05</td>\n",
       "      <td>16.930000</td>\n",
       "      <td>16.930000</td>\n",
       "      <td>16.930000</td>\n",
       "      <td>16.930000</td>\n",
       "      <td>2550000.0</td>\n",
       "      <td>16.930000</td>\n",
       "      <td>NaN</td>\n",
       "      <td>NaN</td>\n",
       "      <td>NaN</td>\n",
       "    </tr>\n",
       "    <tr>\n",
       "      <th>16586</th>\n",
       "      <td>1950-01-06</td>\n",
       "      <td>16.980000</td>\n",
       "      <td>16.980000</td>\n",
       "      <td>16.980000</td>\n",
       "      <td>16.980000</td>\n",
       "      <td>2010000.0</td>\n",
       "      <td>16.980000</td>\n",
       "      <td>NaN</td>\n",
       "      <td>NaN</td>\n",
       "      <td>NaN</td>\n",
       "    </tr>\n",
       "    <tr>\n",
       "      <th>16585</th>\n",
       "      <td>1950-01-09</td>\n",
       "      <td>17.080000</td>\n",
       "      <td>17.080000</td>\n",
       "      <td>17.080000</td>\n",
       "      <td>17.080000</td>\n",
       "      <td>2520000.0</td>\n",
       "      <td>17.080000</td>\n",
       "      <td>NaN</td>\n",
       "      <td>NaN</td>\n",
       "      <td>NaN</td>\n",
       "    </tr>\n",
       "    <tr>\n",
       "      <th>16584</th>\n",
       "      <td>1950-01-10</td>\n",
       "      <td>17.030001</td>\n",
       "      <td>17.030001</td>\n",
       "      <td>17.030001</td>\n",
       "      <td>17.030001</td>\n",
       "      <td>2160000.0</td>\n",
       "      <td>17.030001</td>\n",
       "      <td>16.900</td>\n",
       "      <td>NaN</td>\n",
       "      <td>NaN</td>\n",
       "    </tr>\n",
       "    <tr>\n",
       "      <th>16583</th>\n",
       "      <td>1950-01-11</td>\n",
       "      <td>17.090000</td>\n",
       "      <td>17.090000</td>\n",
       "      <td>17.090000</td>\n",
       "      <td>17.090000</td>\n",
       "      <td>2630000.0</td>\n",
       "      <td>17.090000</td>\n",
       "      <td>16.974</td>\n",
       "      <td>NaN</td>\n",
       "      <td>NaN</td>\n",
       "    </tr>\n",
       "    <tr>\n",
       "      <th>16582</th>\n",
       "      <td>1950-01-12</td>\n",
       "      <td>16.760000</td>\n",
       "      <td>16.760000</td>\n",
       "      <td>16.760000</td>\n",
       "      <td>16.760000</td>\n",
       "      <td>2970000.0</td>\n",
       "      <td>16.760000</td>\n",
       "      <td>17.022</td>\n",
       "      <td>NaN</td>\n",
       "      <td>NaN</td>\n",
       "    </tr>\n",
       "    <tr>\n",
       "      <th>16581</th>\n",
       "      <td>1950-01-13</td>\n",
       "      <td>16.670000</td>\n",
       "      <td>16.670000</td>\n",
       "      <td>16.670000</td>\n",
       "      <td>16.670000</td>\n",
       "      <td>3330000.0</td>\n",
       "      <td>16.670000</td>\n",
       "      <td>16.988</td>\n",
       "      <td>NaN</td>\n",
       "      <td>NaN</td>\n",
       "    </tr>\n",
       "    <tr>\n",
       "      <th>16580</th>\n",
       "      <td>1950-01-16</td>\n",
       "      <td>16.719999</td>\n",
       "      <td>16.719999</td>\n",
       "      <td>16.719999</td>\n",
       "      <td>16.719999</td>\n",
       "      <td>1460000.0</td>\n",
       "      <td>16.719999</td>\n",
       "      <td>16.926</td>\n",
       "      <td>NaN</td>\n",
       "      <td>NaN</td>\n",
       "    </tr>\n",
       "  </tbody>\n",
       "</table>\n",
       "</div>"
      ],
      "text/plain": [
       "            Date       Open       High        Low      Close     Volume  \\\n",
       "16589 1950-01-03  16.660000  16.660000  16.660000  16.660000  1260000.0   \n",
       "16588 1950-01-04  16.850000  16.850000  16.850000  16.850000  1890000.0   \n",
       "16587 1950-01-05  16.930000  16.930000  16.930000  16.930000  2550000.0   \n",
       "16586 1950-01-06  16.980000  16.980000  16.980000  16.980000  2010000.0   \n",
       "16585 1950-01-09  17.080000  17.080000  17.080000  17.080000  2520000.0   \n",
       "16584 1950-01-10  17.030001  17.030001  17.030001  17.030001  2160000.0   \n",
       "16583 1950-01-11  17.090000  17.090000  17.090000  17.090000  2630000.0   \n",
       "16582 1950-01-12  16.760000  16.760000  16.760000  16.760000  2970000.0   \n",
       "16581 1950-01-13  16.670000  16.670000  16.670000  16.670000  3330000.0   \n",
       "16580 1950-01-16  16.719999  16.719999  16.719999  16.719999  1460000.0   \n",
       "\n",
       "       Adj Close  mean_close_5  mean_close_30  mean_close_365  \n",
       "16589  16.660000           NaN            NaN             NaN  \n",
       "16588  16.850000           NaN            NaN             NaN  \n",
       "16587  16.930000           NaN            NaN             NaN  \n",
       "16586  16.980000           NaN            NaN             NaN  \n",
       "16585  17.080000           NaN            NaN             NaN  \n",
       "16584  17.030001        16.900            NaN             NaN  \n",
       "16583  17.090000        16.974            NaN             NaN  \n",
       "16582  16.760000        17.022            NaN             NaN  \n",
       "16581  16.670000        16.988            NaN             NaN  \n",
       "16580  16.719999        16.926            NaN             NaN  "
      ]
     },
     "execution_count": 57,
     "metadata": {},
     "output_type": "execute_result"
    }
   ],
   "source": [
    "data.head(10)"
   ]
  },
  {
   "cell_type": "code",
   "execution_count": 58,
   "metadata": {},
   "outputs": [
    {
     "data": {
      "text/html": [
       "<div>\n",
       "<style scoped>\n",
       "    .dataframe tbody tr th:only-of-type {\n",
       "        vertical-align: middle;\n",
       "    }\n",
       "\n",
       "    .dataframe tbody tr th {\n",
       "        vertical-align: top;\n",
       "    }\n",
       "\n",
       "    .dataframe thead th {\n",
       "        text-align: right;\n",
       "    }\n",
       "</style>\n",
       "<table border=\"1\" class=\"dataframe\">\n",
       "  <thead>\n",
       "    <tr style=\"text-align: right;\">\n",
       "      <th></th>\n",
       "      <th>Date</th>\n",
       "      <th>Open</th>\n",
       "      <th>High</th>\n",
       "      <th>Low</th>\n",
       "      <th>Close</th>\n",
       "      <th>Volume</th>\n",
       "      <th>Adj Close</th>\n",
       "      <th>mean_close_5</th>\n",
       "      <th>mean_close_30</th>\n",
       "      <th>mean_close_365</th>\n",
       "    </tr>\n",
       "  </thead>\n",
       "  <tbody>\n",
       "    <tr>\n",
       "      <th>16224</th>\n",
       "      <td>1951-06-19</td>\n",
       "      <td>22.020000</td>\n",
       "      <td>22.020000</td>\n",
       "      <td>22.020000</td>\n",
       "      <td>22.020000</td>\n",
       "      <td>1.100000e+06</td>\n",
       "      <td>22.020000</td>\n",
       "      <td>21.800000</td>\n",
       "      <td>21.703333</td>\n",
       "      <td>19.447726</td>\n",
       "    </tr>\n",
       "    <tr>\n",
       "      <th>16223</th>\n",
       "      <td>1951-06-20</td>\n",
       "      <td>21.910000</td>\n",
       "      <td>21.910000</td>\n",
       "      <td>21.910000</td>\n",
       "      <td>21.910000</td>\n",
       "      <td>1.120000e+06</td>\n",
       "      <td>21.910000</td>\n",
       "      <td>21.900000</td>\n",
       "      <td>21.683000</td>\n",
       "      <td>19.462411</td>\n",
       "    </tr>\n",
       "    <tr>\n",
       "      <th>16222</th>\n",
       "      <td>1951-06-21</td>\n",
       "      <td>21.780001</td>\n",
       "      <td>21.780001</td>\n",
       "      <td>21.780001</td>\n",
       "      <td>21.780001</td>\n",
       "      <td>1.100000e+06</td>\n",
       "      <td>21.780001</td>\n",
       "      <td>21.972000</td>\n",
       "      <td>21.659667</td>\n",
       "      <td>19.476274</td>\n",
       "    </tr>\n",
       "    <tr>\n",
       "      <th>16221</th>\n",
       "      <td>1951-06-22</td>\n",
       "      <td>21.549999</td>\n",
       "      <td>21.549999</td>\n",
       "      <td>21.549999</td>\n",
       "      <td>21.549999</td>\n",
       "      <td>1.340000e+06</td>\n",
       "      <td>21.549999</td>\n",
       "      <td>21.960000</td>\n",
       "      <td>21.631000</td>\n",
       "      <td>19.489562</td>\n",
       "    </tr>\n",
       "    <tr>\n",
       "      <th>16220</th>\n",
       "      <td>1951-06-25</td>\n",
       "      <td>21.290001</td>\n",
       "      <td>21.290001</td>\n",
       "      <td>21.290001</td>\n",
       "      <td>21.290001</td>\n",
       "      <td>2.440000e+06</td>\n",
       "      <td>21.290001</td>\n",
       "      <td>21.862000</td>\n",
       "      <td>21.599000</td>\n",
       "      <td>19.502082</td>\n",
       "    </tr>\n",
       "    <tr>\n",
       "      <th>...</th>\n",
       "      <td>...</td>\n",
       "      <td>...</td>\n",
       "      <td>...</td>\n",
       "      <td>...</td>\n",
       "      <td>...</td>\n",
       "      <td>...</td>\n",
       "      <td>...</td>\n",
       "      <td>...</td>\n",
       "      <td>...</td>\n",
       "      <td>...</td>\n",
       "    </tr>\n",
       "    <tr>\n",
       "      <th>4</th>\n",
       "      <td>2015-12-01</td>\n",
       "      <td>2082.929932</td>\n",
       "      <td>2103.370117</td>\n",
       "      <td>2082.929932</td>\n",
       "      <td>2102.629883</td>\n",
       "      <td>3.712120e+09</td>\n",
       "      <td>2102.629883</td>\n",
       "      <td>2087.024023</td>\n",
       "      <td>2073.984998</td>\n",
       "      <td>2035.531178</td>\n",
       "    </tr>\n",
       "    <tr>\n",
       "      <th>3</th>\n",
       "      <td>2015-12-02</td>\n",
       "      <td>2101.709961</td>\n",
       "      <td>2104.270020</td>\n",
       "      <td>2077.110107</td>\n",
       "      <td>2079.510010</td>\n",
       "      <td>3.950640e+09</td>\n",
       "      <td>2079.510010</td>\n",
       "      <td>2090.231982</td>\n",
       "      <td>2076.283993</td>\n",
       "      <td>2035.914082</td>\n",
       "    </tr>\n",
       "    <tr>\n",
       "      <th>2</th>\n",
       "      <td>2015-12-03</td>\n",
       "      <td>2080.709961</td>\n",
       "      <td>2085.000000</td>\n",
       "      <td>2042.349976</td>\n",
       "      <td>2049.620117</td>\n",
       "      <td>4.306490e+09</td>\n",
       "      <td>2049.620117</td>\n",
       "      <td>2088.306006</td>\n",
       "      <td>2077.908659</td>\n",
       "      <td>2036.234356</td>\n",
       "    </tr>\n",
       "    <tr>\n",
       "      <th>1</th>\n",
       "      <td>2015-12-04</td>\n",
       "      <td>2051.239990</td>\n",
       "      <td>2093.840088</td>\n",
       "      <td>2051.239990</td>\n",
       "      <td>2091.689941</td>\n",
       "      <td>4.214910e+09</td>\n",
       "      <td>2091.689941</td>\n",
       "      <td>2080.456006</td>\n",
       "      <td>2078.931331</td>\n",
       "      <td>2036.507343</td>\n",
       "    </tr>\n",
       "    <tr>\n",
       "      <th>0</th>\n",
       "      <td>2015-12-07</td>\n",
       "      <td>2090.419922</td>\n",
       "      <td>2090.419922</td>\n",
       "      <td>2066.780029</td>\n",
       "      <td>2077.070068</td>\n",
       "      <td>4.043820e+09</td>\n",
       "      <td>2077.070068</td>\n",
       "      <td>2080.771973</td>\n",
       "      <td>2080.237329</td>\n",
       "      <td>2036.869425</td>\n",
       "    </tr>\n",
       "  </tbody>\n",
       "</table>\n",
       "<p>16225 rows × 10 columns</p>\n",
       "</div>"
      ],
      "text/plain": [
       "            Date         Open         High          Low        Close  \\\n",
       "16224 1951-06-19    22.020000    22.020000    22.020000    22.020000   \n",
       "16223 1951-06-20    21.910000    21.910000    21.910000    21.910000   \n",
       "16222 1951-06-21    21.780001    21.780001    21.780001    21.780001   \n",
       "16221 1951-06-22    21.549999    21.549999    21.549999    21.549999   \n",
       "16220 1951-06-25    21.290001    21.290001    21.290001    21.290001   \n",
       "...          ...          ...          ...          ...          ...   \n",
       "4     2015-12-01  2082.929932  2103.370117  2082.929932  2102.629883   \n",
       "3     2015-12-02  2101.709961  2104.270020  2077.110107  2079.510010   \n",
       "2     2015-12-03  2080.709961  2085.000000  2042.349976  2049.620117   \n",
       "1     2015-12-04  2051.239990  2093.840088  2051.239990  2091.689941   \n",
       "0     2015-12-07  2090.419922  2090.419922  2066.780029  2077.070068   \n",
       "\n",
       "             Volume    Adj Close  mean_close_5  mean_close_30  mean_close_365  \n",
       "16224  1.100000e+06    22.020000     21.800000      21.703333       19.447726  \n",
       "16223  1.120000e+06    21.910000     21.900000      21.683000       19.462411  \n",
       "16222  1.100000e+06    21.780001     21.972000      21.659667       19.476274  \n",
       "16221  1.340000e+06    21.549999     21.960000      21.631000       19.489562  \n",
       "16220  2.440000e+06    21.290001     21.862000      21.599000       19.502082  \n",
       "...             ...          ...           ...            ...             ...  \n",
       "4      3.712120e+09  2102.629883   2087.024023    2073.984998     2035.531178  \n",
       "3      3.950640e+09  2079.510010   2090.231982    2076.283993     2035.914082  \n",
       "2      4.306490e+09  2049.620117   2088.306006    2077.908659     2036.234356  \n",
       "1      4.214910e+09  2091.689941   2080.456006    2078.931331     2036.507343  \n",
       "0      4.043820e+09  2077.070068   2080.771973    2080.237329     2036.869425  \n",
       "\n",
       "[16225 rows x 10 columns]"
      ]
     },
     "execution_count": 58,
     "metadata": {},
     "output_type": "execute_result"
    }
   ],
   "source": [
    "data.dropna()"
   ]
  },
  {
   "cell_type": "code",
   "execution_count": 59,
   "metadata": {},
   "outputs": [],
   "source": [
    "clean=data.copy().dropna()"
   ]
  },
  {
   "cell_type": "code",
   "execution_count": 60,
   "metadata": {},
   "outputs": [
    {
     "data": {
      "text/plain": [
       "(16225, 10)"
      ]
     },
     "execution_count": 60,
     "metadata": {},
     "output_type": "execute_result"
    }
   ],
   "source": [
    "clean.shape"
   ]
  },
  {
   "cell_type": "code",
   "execution_count": 61,
   "metadata": {},
   "outputs": [
    {
     "data": {
      "text/plain": [
       "datetime.datetime(2013, 1, 1, 0, 0)"
      ]
     },
     "execution_count": 61,
     "metadata": {},
     "output_type": "execute_result"
    }
   ],
   "source": [
    "import datetime as dt\n",
    "\n",
    "january=dt.datetime(2013,1,1)\n",
    "january"
   ]
  },
  {
   "cell_type": "code",
   "execution_count": 62,
   "metadata": {},
   "outputs": [],
   "source": [
    "from sklearn.linear_model import LinearRegression\n",
    "from sklearn.metrics import mean_squared_error"
   ]
  },
  {
   "cell_type": "code",
   "execution_count": 63,
   "metadata": {},
   "outputs": [],
   "source": [
    "def ramse(df, feature):\n",
    "    train=df[df['Date']<january]\n",
    "    test=df[df['Date']>=january]\n",
    "    target='Close'\n",
    "    \n",
    "    model=LinearRegression()\n",
    "    model.fit(train[feature], train[target])\n",
    "    prediction= model.predict(test[feature])\n",
    "    \n",
    "    mse=mean_squared_error(test[target], prediction)\n",
    "    rmse=np.sqrt(mse)\n",
    "    return rmse"
   ]
  },
  {
   "cell_type": "code",
   "execution_count": 64,
   "metadata": {},
   "outputs": [
    {
     "data": {
      "text/plain": [
       "['mean_close_5', 'mean_close_30', 'mean_close_365']"
      ]
     },
     "execution_count": 64,
     "metadata": {},
     "output_type": "execute_result"
    }
   ],
   "source": [
    "features=[k for k in clean.columns if \"mean\" in k]\n",
    "features"
   ]
  },
  {
   "cell_type": "code",
   "execution_count": 65,
   "metadata": {},
   "outputs": [
    {
     "data": {
      "text/plain": [
       "22.220065324219675"
      ]
     },
     "execution_count": 65,
     "metadata": {},
     "output_type": "execute_result"
    }
   ],
   "source": [
    "ramse(clean, features)"
   ]
  },
  {
   "cell_type": "code",
   "execution_count": 66,
   "metadata": {},
   "outputs": [],
   "source": [
    "data['mean_volume_30']=data['Volume'].rolling(30).mean().shift(1)\n",
    "data['mean_volume_365']=data['Volume'].rolling(365).mean().shift(1)"
   ]
  },
  {
   "cell_type": "code",
   "execution_count": 67,
   "metadata": {},
   "outputs": [
    {
     "data": {
      "text/plain": [
       "Index(['Date', 'Open', 'High', 'Low', 'Close', 'Volume', 'Adj Close',\n",
       "       'mean_close_5', 'mean_close_30', 'mean_close_365', 'mean_volume_30',\n",
       "       'mean_volume_365'],\n",
       "      dtype='object')"
      ]
     },
     "execution_count": 67,
     "metadata": {},
     "output_type": "execute_result"
    }
   ],
   "source": [
    "data.columns\n"
   ]
  },
  {
   "cell_type": "code",
   "execution_count": 68,
   "metadata": {},
   "outputs": [],
   "source": [
    "clean=data.copy().dropna()"
   ]
  },
  {
   "cell_type": "code",
   "execution_count": 69,
   "metadata": {},
   "outputs": [],
   "source": [
    "feature=['mean_volume_30','mean_volume_365','mean_close_5', 'mean_close_30', 'mean_close_365']"
   ]
  },
  {
   "cell_type": "code",
   "execution_count": 70,
   "metadata": {},
   "outputs": [
    {
     "data": {
      "text/plain": [
       "22.225320491975246"
      ]
     },
     "execution_count": 70,
     "metadata": {},
     "output_type": "execute_result"
    }
   ],
   "source": [
    "ramse(clean, feature)"
   ]
  },
  {
   "cell_type": "code",
   "execution_count": 71,
   "metadata": {},
   "outputs": [],
   "source": [
    "data['std_close_5']=data['Close'].rolling(5).std().shift(1)\n",
    "data['std_close_365']=data['Close'].rolling(365).std().shift(1)"
   ]
  },
  {
   "cell_type": "code",
   "execution_count": 72,
   "metadata": {},
   "outputs": [],
   "source": [
    "data['ratio_mean_close']= data['mean_close_5']/data['mean_close_365']\n",
    "data['ratio_std_close']= data['std_close_5']/data['std_close_365']"
   ]
  },
  {
   "cell_type": "code",
   "execution_count": 73,
   "metadata": {},
   "outputs": [
    {
     "data": {
      "text/plain": [
       "Index(['Date', 'Open', 'High', 'Low', 'Close', 'Volume', 'Adj Close',\n",
       "       'mean_close_5', 'mean_close_30', 'mean_close_365', 'mean_volume_30',\n",
       "       'mean_volume_365', 'std_close_5', 'std_close_365', 'ratio_mean_close',\n",
       "       'ratio_std_close'],\n",
       "      dtype='object')"
      ]
     },
     "execution_count": 73,
     "metadata": {},
     "output_type": "execute_result"
    }
   ],
   "source": [
    "data.columns"
   ]
  },
  {
   "cell_type": "code",
   "execution_count": 74,
   "metadata": {},
   "outputs": [],
   "source": [
    "clean=data.copy().dropna()"
   ]
  },
  {
   "cell_type": "code",
   "execution_count": 75,
   "metadata": {},
   "outputs": [],
   "source": [
    "feature=['mean_volume_30','mean_volume_365','mean_close_5', 'mean_close_30', 'mean_close_365','std_close_5', 'std_close_365', 'std_close_5',\n",
    "       'ratio_mean_close', 'ratio_std_close']"
   ]
  },
  {
   "cell_type": "code",
   "execution_count": 76,
   "metadata": {},
   "outputs": [
    {
     "data": {
      "text/plain": [
       "22.212425296542918"
      ]
     },
     "execution_count": 76,
     "metadata": {},
     "output_type": "execute_result"
    }
   ],
   "source": [
    "ramse(clean, feature)"
   ]
  },
  {
   "cell_type": "code",
   "execution_count": 77,
   "metadata": {},
   "outputs": [],
   "source": [
    "data['Year']=data['Date'].dt.strftime('%Y').astype(float)\n",
    "data['Month']=data['Date'].dt.strftime('%m').astype(float)\n",
    "data['Day']=data['Date'].dt.strftime('%d').astype(float)"
   ]
  },
  {
   "cell_type": "code",
   "execution_count": 78,
   "metadata": {},
   "outputs": [
    {
     "data": {
      "text/html": [
       "<div>\n",
       "<style scoped>\n",
       "    .dataframe tbody tr th:only-of-type {\n",
       "        vertical-align: middle;\n",
       "    }\n",
       "\n",
       "    .dataframe tbody tr th {\n",
       "        vertical-align: top;\n",
       "    }\n",
       "\n",
       "    .dataframe thead th {\n",
       "        text-align: right;\n",
       "    }\n",
       "</style>\n",
       "<table border=\"1\" class=\"dataframe\">\n",
       "  <thead>\n",
       "    <tr style=\"text-align: right;\">\n",
       "      <th></th>\n",
       "      <th>Date</th>\n",
       "      <th>Open</th>\n",
       "      <th>High</th>\n",
       "      <th>Low</th>\n",
       "      <th>Close</th>\n",
       "      <th>Volume</th>\n",
       "      <th>Adj Close</th>\n",
       "      <th>mean_close_5</th>\n",
       "      <th>mean_close_30</th>\n",
       "      <th>mean_close_365</th>\n",
       "      <th>mean_volume_30</th>\n",
       "      <th>mean_volume_365</th>\n",
       "      <th>std_close_5</th>\n",
       "      <th>std_close_365</th>\n",
       "      <th>ratio_mean_close</th>\n",
       "      <th>ratio_std_close</th>\n",
       "      <th>Year</th>\n",
       "      <th>Month</th>\n",
       "      <th>Day</th>\n",
       "    </tr>\n",
       "  </thead>\n",
       "  <tbody>\n",
       "    <tr>\n",
       "      <th>16589</th>\n",
       "      <td>1950-01-03</td>\n",
       "      <td>16.66</td>\n",
       "      <td>16.66</td>\n",
       "      <td>16.66</td>\n",
       "      <td>16.66</td>\n",
       "      <td>1260000.0</td>\n",
       "      <td>16.66</td>\n",
       "      <td>NaN</td>\n",
       "      <td>NaN</td>\n",
       "      <td>NaN</td>\n",
       "      <td>NaN</td>\n",
       "      <td>NaN</td>\n",
       "      <td>NaN</td>\n",
       "      <td>NaN</td>\n",
       "      <td>NaN</td>\n",
       "      <td>NaN</td>\n",
       "      <td>1950.0</td>\n",
       "      <td>1.0</td>\n",
       "      <td>3.0</td>\n",
       "    </tr>\n",
       "    <tr>\n",
       "      <th>16588</th>\n",
       "      <td>1950-01-04</td>\n",
       "      <td>16.85</td>\n",
       "      <td>16.85</td>\n",
       "      <td>16.85</td>\n",
       "      <td>16.85</td>\n",
       "      <td>1890000.0</td>\n",
       "      <td>16.85</td>\n",
       "      <td>NaN</td>\n",
       "      <td>NaN</td>\n",
       "      <td>NaN</td>\n",
       "      <td>NaN</td>\n",
       "      <td>NaN</td>\n",
       "      <td>NaN</td>\n",
       "      <td>NaN</td>\n",
       "      <td>NaN</td>\n",
       "      <td>NaN</td>\n",
       "      <td>1950.0</td>\n",
       "      <td>1.0</td>\n",
       "      <td>4.0</td>\n",
       "    </tr>\n",
       "    <tr>\n",
       "      <th>16587</th>\n",
       "      <td>1950-01-05</td>\n",
       "      <td>16.93</td>\n",
       "      <td>16.93</td>\n",
       "      <td>16.93</td>\n",
       "      <td>16.93</td>\n",
       "      <td>2550000.0</td>\n",
       "      <td>16.93</td>\n",
       "      <td>NaN</td>\n",
       "      <td>NaN</td>\n",
       "      <td>NaN</td>\n",
       "      <td>NaN</td>\n",
       "      <td>NaN</td>\n",
       "      <td>NaN</td>\n",
       "      <td>NaN</td>\n",
       "      <td>NaN</td>\n",
       "      <td>NaN</td>\n",
       "      <td>1950.0</td>\n",
       "      <td>1.0</td>\n",
       "      <td>5.0</td>\n",
       "    </tr>\n",
       "    <tr>\n",
       "      <th>16586</th>\n",
       "      <td>1950-01-06</td>\n",
       "      <td>16.98</td>\n",
       "      <td>16.98</td>\n",
       "      <td>16.98</td>\n",
       "      <td>16.98</td>\n",
       "      <td>2010000.0</td>\n",
       "      <td>16.98</td>\n",
       "      <td>NaN</td>\n",
       "      <td>NaN</td>\n",
       "      <td>NaN</td>\n",
       "      <td>NaN</td>\n",
       "      <td>NaN</td>\n",
       "      <td>NaN</td>\n",
       "      <td>NaN</td>\n",
       "      <td>NaN</td>\n",
       "      <td>NaN</td>\n",
       "      <td>1950.0</td>\n",
       "      <td>1.0</td>\n",
       "      <td>6.0</td>\n",
       "    </tr>\n",
       "    <tr>\n",
       "      <th>16585</th>\n",
       "      <td>1950-01-09</td>\n",
       "      <td>17.08</td>\n",
       "      <td>17.08</td>\n",
       "      <td>17.08</td>\n",
       "      <td>17.08</td>\n",
       "      <td>2520000.0</td>\n",
       "      <td>17.08</td>\n",
       "      <td>NaN</td>\n",
       "      <td>NaN</td>\n",
       "      <td>NaN</td>\n",
       "      <td>NaN</td>\n",
       "      <td>NaN</td>\n",
       "      <td>NaN</td>\n",
       "      <td>NaN</td>\n",
       "      <td>NaN</td>\n",
       "      <td>NaN</td>\n",
       "      <td>1950.0</td>\n",
       "      <td>1.0</td>\n",
       "      <td>9.0</td>\n",
       "    </tr>\n",
       "  </tbody>\n",
       "</table>\n",
       "</div>"
      ],
      "text/plain": [
       "            Date   Open   High    Low  Close     Volume  Adj Close  \\\n",
       "16589 1950-01-03  16.66  16.66  16.66  16.66  1260000.0      16.66   \n",
       "16588 1950-01-04  16.85  16.85  16.85  16.85  1890000.0      16.85   \n",
       "16587 1950-01-05  16.93  16.93  16.93  16.93  2550000.0      16.93   \n",
       "16586 1950-01-06  16.98  16.98  16.98  16.98  2010000.0      16.98   \n",
       "16585 1950-01-09  17.08  17.08  17.08  17.08  2520000.0      17.08   \n",
       "\n",
       "       mean_close_5  mean_close_30  mean_close_365  mean_volume_30  \\\n",
       "16589           NaN            NaN             NaN             NaN   \n",
       "16588           NaN            NaN             NaN             NaN   \n",
       "16587           NaN            NaN             NaN             NaN   \n",
       "16586           NaN            NaN             NaN             NaN   \n",
       "16585           NaN            NaN             NaN             NaN   \n",
       "\n",
       "       mean_volume_365  std_close_5  std_close_365  ratio_mean_close  \\\n",
       "16589              NaN          NaN            NaN               NaN   \n",
       "16588              NaN          NaN            NaN               NaN   \n",
       "16587              NaN          NaN            NaN               NaN   \n",
       "16586              NaN          NaN            NaN               NaN   \n",
       "16585              NaN          NaN            NaN               NaN   \n",
       "\n",
       "       ratio_std_close    Year  Month  Day  \n",
       "16589              NaN  1950.0    1.0  3.0  \n",
       "16588              NaN  1950.0    1.0  4.0  \n",
       "16587              NaN  1950.0    1.0  5.0  \n",
       "16586              NaN  1950.0    1.0  6.0  \n",
       "16585              NaN  1950.0    1.0  9.0  "
      ]
     },
     "execution_count": 78,
     "metadata": {},
     "output_type": "execute_result"
    }
   ],
   "source": [
    "data.head()"
   ]
  },
  {
   "cell_type": "code",
   "execution_count": 79,
   "metadata": {},
   "outputs": [],
   "source": [
    "clean=data.copy().dropna()\n"
   ]
  },
  {
   "cell_type": "code",
   "execution_count": 80,
   "metadata": {},
   "outputs": [
    {
     "data": {
      "text/plain": [
       "Open                0.999900\n",
       "High                0.999953\n",
       "Low                 0.999956\n",
       "Close               1.000000\n",
       "Volume              0.772817\n",
       "Adj Close           1.000000\n",
       "mean_close_5        0.999793\n",
       "mean_close_30       0.999189\n",
       "mean_close_365      0.988870\n",
       "mean_volume_30      0.786908\n",
       "mean_volume_365     0.784878\n",
       "std_close_5         0.722414\n",
       "std_close_365       0.816103\n",
       "ratio_mean_close    0.047782\n",
       "ratio_std_close     0.087018\n",
       "Year                0.872100\n",
       "Month               0.005684\n",
       "Day                -0.001525\n",
       "Name: Close, dtype: float64"
      ]
     },
     "execution_count": 80,
     "metadata": {},
     "output_type": "execute_result"
    }
   ],
   "source": [
    "clean.corr()['Close']"
   ]
  },
  {
   "cell_type": "code",
   "execution_count": 81,
   "metadata": {},
   "outputs": [],
   "source": [
    "feature=['mean_volume_30', 'mean_volume_365',\n",
    " 'mean_close_5','mean_close_30',\n",
    " 'mean_close_365',\n",
    " 'std_close_5',\n",
    " 'std_close_365','Year']"
   ]
  },
  {
   "cell_type": "code",
   "execution_count": 82,
   "metadata": {},
   "outputs": [
    {
     "data": {
      "text/plain": [
       "22.222405167442115"
      ]
     },
     "execution_count": 82,
     "metadata": {},
     "output_type": "execute_result"
    }
   ],
   "source": [
    "ramse(clean,feature)"
   ]
  },
  {
   "cell_type": "code",
   "execution_count": 83,
   "metadata": {},
   "outputs": [],
   "source": [
    "from sklearn.neighbors import KNeighborsRegressor"
   ]
  },
  {
   "cell_type": "code",
   "execution_count": 84,
   "metadata": {},
   "outputs": [],
   "source": [
    "def kramse(df, feature):\n",
    "    train=df[df['Date']<january]\n",
    "    test=df[df['Date']>=january]\n",
    "    target='Close'\n",
    "    \n",
    "    model=KNeighborsRegressor()\n",
    "    model.fit(train[feature], train[target])\n",
    "    prediction= model.predict(test[feature])\n",
    "    \n",
    "    mse=mean_squared_error(test[target], prediction)\n",
    "    rmse=np.sqrt(mse)\n",
    "    return rmse"
   ]
  },
  {
   "cell_type": "code",
   "execution_count": 85,
   "metadata": {},
   "outputs": [
    {
     "data": {
      "text/plain": [
       "490.16172417742814"
      ]
     },
     "execution_count": 85,
     "metadata": {},
     "output_type": "execute_result"
    }
   ],
   "source": [
    "kramse(clean, feature)"
   ]
  },
  {
   "cell_type": "code",
   "execution_count": 99,
   "metadata": {},
   "outputs": [],
   "source": [
    "def ramses(df, feature, row):\n",
    "    train=df[df['Date']<row['Date']]\n",
    "    test=df[df['Date']==row['Date']]\n",
    "    target='Close'\n",
    "    \n",
    "    if len(train)==0:\n",
    "        return np.nan\n",
    "    else:\n",
    "        model=LinearRegression()\n",
    "        model.fit(train[feature], train[target])\n",
    "        prediction= model.predict(test[feature])\n",
    "\n",
    "#         mse=mean_squared_error(test[target], prediction)\n",
    "#         rmse=np.sqrt(mse)\n",
    "        return prediction"
   ]
  },
  {
   "cell_type": "code",
   "execution_count": 95,
   "metadata": {},
   "outputs": [],
   "source": [
    "clean.columns\n",
    "features=['mean_close_5', 'mean_close_30', 'mean_close_365', 'mean_volume_30',\n",
    "       'mean_volume_365', 'std_close_5', 'std_close_365', 'Year']"
   ]
  },
  {
   "cell_type": "code",
   "execution_count": 93,
   "metadata": {},
   "outputs": [
    {
     "data": {
      "text/plain": [
       "16224          NaN\n",
       "16223     0.110000\n",
       "16222     0.019980\n",
       "16221     0.005222\n",
       "16220     0.155512\n",
       "           ...    \n",
       "4        13.418519\n",
       "3        12.545443\n",
       "2        40.104085\n",
       "1        11.507279\n",
       "0         3.311644\n",
       "Length: 16225, dtype: float64"
      ]
     },
     "execution_count": 93,
     "metadata": {},
     "output_type": "execute_result"
    }
   ],
   "source": [
    "rmse=clean.apply(lambda row: ramses(clean, features, row), axis=1)\n",
    "rmse"
   ]
  },
  {
   "cell_type": "code",
   "execution_count": 94,
   "metadata": {},
   "outputs": [
    {
     "data": {
      "text/plain": [
       "5.4812949046411905"
      ]
     },
     "execution_count": 94,
     "metadata": {},
     "output_type": "execute_result"
    }
   ],
   "source": [
    "rmse.mean()"
   ]
  },
  {
   "cell_type": "code",
   "execution_count": 98,
   "metadata": {},
   "outputs": [
    {
     "data": {
      "text/plain": [
       "16224          NaN\n",
       "16223     0.110000\n",
       "16222     0.019939\n",
       "16221     0.005222\n",
       "16220     0.172451\n",
       "           ...    \n",
       "4        13.991743\n",
       "3        11.996149\n",
       "2        39.582058\n",
       "1        11.982923\n",
       "0         2.897914\n",
       "Length: 16225, dtype: float64"
      ]
     },
     "execution_count": 98,
     "metadata": {},
     "output_type": "execute_result"
    }
   ],
   "source": [
    "rmse=clean.apply(lambda row: ramses(clean, features, row), axis=1)\n",
    "rmse"
   ]
  },
  {
   "cell_type": "code",
   "execution_count": 97,
   "metadata": {},
   "outputs": [
    {
     "data": {
      "text/plain": [
       "5.481585546489499"
      ]
     },
     "execution_count": 97,
     "metadata": {},
     "output_type": "execute_result"
    }
   ],
   "source": [
    "rmse.mean()"
   ]
  },
  {
   "cell_type": "code",
   "execution_count": 100,
   "metadata": {},
   "outputs": [
    {
     "data": {
      "text/plain": [
       "16224                     NaN\n",
       "16223                 [22.02]\n",
       "16222    [21.799939537994653]\n",
       "16221     [21.54477749738858]\n",
       "16220    [21.462452455197894]\n",
       "                 ...         \n",
       "4         [2088.638140358151]\n",
       "3        [2091.5061586905276]\n",
       "2         [2089.202174860854]\n",
       "1        [2079.7070181582226]\n",
       "0        [2079.9679823421575]\n",
       "Length: 16225, dtype: object"
      ]
     },
     "execution_count": 100,
     "metadata": {},
     "output_type": "execute_result"
    }
   ],
   "source": [
    "predict=rmse=clean.apply(lambda row: ramses(clean, features, row), axis=1)\n",
    "predict"
   ]
  },
  {
   "cell_type": "code",
   "execution_count": 104,
   "metadata": {},
   "outputs": [
    {
     "data": {
      "text/html": [
       "<div>\n",
       "<style scoped>\n",
       "    .dataframe tbody tr th:only-of-type {\n",
       "        vertical-align: middle;\n",
       "    }\n",
       "\n",
       "    .dataframe tbody tr th {\n",
       "        vertical-align: top;\n",
       "    }\n",
       "\n",
       "    .dataframe thead th {\n",
       "        text-align: right;\n",
       "    }\n",
       "</style>\n",
       "<table border=\"1\" class=\"dataframe\">\n",
       "  <thead>\n",
       "    <tr style=\"text-align: right;\">\n",
       "      <th></th>\n",
       "      <th>Date</th>\n",
       "      <th>Open</th>\n",
       "      <th>High</th>\n",
       "      <th>Low</th>\n",
       "      <th>Close</th>\n",
       "      <th>Volume</th>\n",
       "      <th>Adj Close</th>\n",
       "      <th>mean_close_5</th>\n",
       "      <th>mean_close_30</th>\n",
       "      <th>mean_close_365</th>\n",
       "      <th>mean_volume_30</th>\n",
       "      <th>mean_volume_365</th>\n",
       "      <th>std_close_5</th>\n",
       "      <th>std_close_365</th>\n",
       "      <th>ratio_mean_close</th>\n",
       "      <th>ratio_std_close</th>\n",
       "      <th>Year</th>\n",
       "      <th>Month</th>\n",
       "      <th>Day</th>\n",
       "    </tr>\n",
       "  </thead>\n",
       "  <tbody>\n",
       "    <tr>\n",
       "      <th>4</th>\n",
       "      <td>2015-12-01</td>\n",
       "      <td>2082.929932</td>\n",
       "      <td>2103.370117</td>\n",
       "      <td>2082.929932</td>\n",
       "      <td>2102.629883</td>\n",
       "      <td>3.712120e+09</td>\n",
       "      <td>2102.629883</td>\n",
       "      <td>2087.024023</td>\n",
       "      <td>2073.984998</td>\n",
       "      <td>2035.531178</td>\n",
       "      <td>3.842181e+09</td>\n",
       "      <td>3.527800e+09</td>\n",
       "      <td>3.916109</td>\n",
       "      <td>64.370261</td>\n",
       "      <td>1.025297</td>\n",
       "      <td>0.060837</td>\n",
       "      <td>2015.0</td>\n",
       "      <td>12.0</td>\n",
       "      <td>1.0</td>\n",
       "    </tr>\n",
       "    <tr>\n",
       "      <th>3</th>\n",
       "      <td>2015-12-02</td>\n",
       "      <td>2101.709961</td>\n",
       "      <td>2104.270020</td>\n",
       "      <td>2077.110107</td>\n",
       "      <td>2079.510010</td>\n",
       "      <td>3.950640e+09</td>\n",
       "      <td>2079.510010</td>\n",
       "      <td>2090.231982</td>\n",
       "      <td>2076.283993</td>\n",
       "      <td>2035.914082</td>\n",
       "      <td>3.856341e+09</td>\n",
       "      <td>3.526090e+09</td>\n",
       "      <td>7.956808</td>\n",
       "      <td>64.352527</td>\n",
       "      <td>1.026680</td>\n",
       "      <td>0.123644</td>\n",
       "      <td>2015.0</td>\n",
       "      <td>12.0</td>\n",
       "      <td>2.0</td>\n",
       "    </tr>\n",
       "    <tr>\n",
       "      <th>2</th>\n",
       "      <td>2015-12-03</td>\n",
       "      <td>2080.709961</td>\n",
       "      <td>2085.000000</td>\n",
       "      <td>2042.349976</td>\n",
       "      <td>2049.620117</td>\n",
       "      <td>4.306490e+09</td>\n",
       "      <td>2049.620117</td>\n",
       "      <td>2088.306006</td>\n",
       "      <td>2077.908659</td>\n",
       "      <td>2036.234356</td>\n",
       "      <td>3.876979e+09</td>\n",
       "      <td>3.529468e+09</td>\n",
       "      <td>9.333599</td>\n",
       "      <td>64.277554</td>\n",
       "      <td>1.025573</td>\n",
       "      <td>0.145208</td>\n",
       "      <td>2015.0</td>\n",
       "      <td>12.0</td>\n",
       "      <td>3.0</td>\n",
       "    </tr>\n",
       "    <tr>\n",
       "      <th>1</th>\n",
       "      <td>2015-12-04</td>\n",
       "      <td>2051.239990</td>\n",
       "      <td>2093.840088</td>\n",
       "      <td>2051.239990</td>\n",
       "      <td>2091.689941</td>\n",
       "      <td>4.214910e+09</td>\n",
       "      <td>2091.689941</td>\n",
       "      <td>2080.456006</td>\n",
       "      <td>2078.931331</td>\n",
       "      <td>2036.507343</td>\n",
       "      <td>3.899603e+09</td>\n",
       "      <td>3.532802e+09</td>\n",
       "      <td>19.599946</td>\n",
       "      <td>64.121622</td>\n",
       "      <td>1.021580</td>\n",
       "      <td>0.305668</td>\n",
       "      <td>2015.0</td>\n",
       "      <td>12.0</td>\n",
       "      <td>4.0</td>\n",
       "    </tr>\n",
       "    <tr>\n",
       "      <th>0</th>\n",
       "      <td>2015-12-07</td>\n",
       "      <td>2090.419922</td>\n",
       "      <td>2090.419922</td>\n",
       "      <td>2066.780029</td>\n",
       "      <td>2077.070068</td>\n",
       "      <td>4.043820e+09</td>\n",
       "      <td>2077.070068</td>\n",
       "      <td>2080.771973</td>\n",
       "      <td>2080.237329</td>\n",
       "      <td>2036.869425</td>\n",
       "      <td>3.892405e+09</td>\n",
       "      <td>3.535838e+09</td>\n",
       "      <td>19.806136</td>\n",
       "      <td>64.058862</td>\n",
       "      <td>1.021554</td>\n",
       "      <td>0.309187</td>\n",
       "      <td>2015.0</td>\n",
       "      <td>12.0</td>\n",
       "      <td>7.0</td>\n",
       "    </tr>\n",
       "  </tbody>\n",
       "</table>\n",
       "</div>"
      ],
      "text/plain": [
       "        Date         Open         High          Low        Close  \\\n",
       "4 2015-12-01  2082.929932  2103.370117  2082.929932  2102.629883   \n",
       "3 2015-12-02  2101.709961  2104.270020  2077.110107  2079.510010   \n",
       "2 2015-12-03  2080.709961  2085.000000  2042.349976  2049.620117   \n",
       "1 2015-12-04  2051.239990  2093.840088  2051.239990  2091.689941   \n",
       "0 2015-12-07  2090.419922  2090.419922  2066.780029  2077.070068   \n",
       "\n",
       "         Volume    Adj Close  mean_close_5  mean_close_30  mean_close_365  \\\n",
       "4  3.712120e+09  2102.629883   2087.024023    2073.984998     2035.531178   \n",
       "3  3.950640e+09  2079.510010   2090.231982    2076.283993     2035.914082   \n",
       "2  4.306490e+09  2049.620117   2088.306006    2077.908659     2036.234356   \n",
       "1  4.214910e+09  2091.689941   2080.456006    2078.931331     2036.507343   \n",
       "0  4.043820e+09  2077.070068   2080.771973    2080.237329     2036.869425   \n",
       "\n",
       "   mean_volume_30  mean_volume_365  std_close_5  std_close_365  \\\n",
       "4    3.842181e+09     3.527800e+09     3.916109      64.370261   \n",
       "3    3.856341e+09     3.526090e+09     7.956808      64.352527   \n",
       "2    3.876979e+09     3.529468e+09     9.333599      64.277554   \n",
       "1    3.899603e+09     3.532802e+09    19.599946      64.121622   \n",
       "0    3.892405e+09     3.535838e+09    19.806136      64.058862   \n",
       "\n",
       "   ratio_mean_close  ratio_std_close    Year  Month  Day  \n",
       "4          1.025297         0.060837  2015.0   12.0  1.0  \n",
       "3          1.026680         0.123644  2015.0   12.0  2.0  \n",
       "2          1.025573         0.145208  2015.0   12.0  3.0  \n",
       "1          1.021580         0.305668  2015.0   12.0  4.0  \n",
       "0          1.021554         0.309187  2015.0   12.0  7.0  "
      ]
     },
     "execution_count": 104,
     "metadata": {},
     "output_type": "execute_result"
    }
   ],
   "source": [
    "clean.tail()"
   ]
  },
  {
   "cell_type": "code",
   "execution_count": null,
   "metadata": {},
   "outputs": [],
   "source": []
  }
 ],
 "metadata": {
  "kernelspec": {
   "display_name": "Python 3",
   "language": "python",
   "name": "python3"
  },
  "language_info": {
   "codemirror_mode": {
    "name": "ipython",
    "version": 3
   },
   "file_extension": ".py",
   "mimetype": "text/x-python",
   "name": "python",
   "nbconvert_exporter": "python",
   "pygments_lexer": "ipython3",
   "version": "3.8.5"
  }
 },
 "nbformat": 4,
 "nbformat_minor": 4
}
